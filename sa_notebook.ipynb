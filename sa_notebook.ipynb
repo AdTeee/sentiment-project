{
  "metadata": {
    "kernelspec": {
      "language": "python",
      "display_name": "Python 3",
      "name": "python3"
    },
    "language_info": {
      "name": "python",
      "version": "3.10.12",
      "mimetype": "text/x-python",
      "codemirror_mode": {
        "name": "ipython",
        "version": 3
      },
      "pygments_lexer": "ipython3",
      "nbconvert_exporter": "python",
      "file_extension": ".py"
    },
    "kaggle": {
      "accelerator": "none",
      "dataSources": [
        {
          "sourceId": 10960317,
          "sourceType": "datasetVersion",
          "datasetId": 6818721
        }
      ],
      "dockerImageVersionId": 30918,
      "isInternetEnabled": false,
      "language": "python",
      "sourceType": "notebook",
      "isGpuEnabled": false
    },
    "colab": {
      "provenance": []
    }
  },
  "nbformat_minor": 0,
  "nbformat": 4,
  "cells": [
    {
      "cell_type": "markdown",
      "source": [
        "**Import Libraries**"
      ],
      "metadata": {
        "id": "r8m3TKfNrhBT"
      }
    },
    {
      "cell_type": "code",
      "source": [
        "# This Python 3 environment comes with many helpful analytics libraries installed\n",
        "# It is defined by the kaggle/python Docker image: https://github.com/kaggle/docker-python\n",
        "# For example, here's several helpful packages to load\n",
        "\n",
        "import numpy as np\n",
        "import pandas as pd\n",
        "import matplotlib.pyplot as plt\n",
        "import seaborn as sns\n",
        "\n",
        "from string import punctuation\n",
        "from nltk.tokenize import word_tokenize\n",
        "from nltk.stem import LancasterStemmer\n",
        "\n",
        "from string import punctuation\n",
        "from nltk.corpus import stopwords\n",
        "from nltk.tokenize import word_tokenize\n",
        "from nltk.stem.wordnet import WordNetLemmatizer\n",
        "import re\n",
        "import warnings\n",
        "warnings.filterwarnings('ignore')\n",
        "# Input data files are available in the read-only \"../input/\" directory\n",
        "# For example, running this (by clicking run or pressing Shift+Enter) will list all files under the input directory\n",
        "\n",
        "import os\n",
        "for dirname, _, filenames in os.walk('/kaggle/input'):\n",
        "    for filename in filenames:\n",
        "        print(os.path.join(dirname, filename))\n",
        "\n",
        "# You can write up to 20GB to the current directory (/kaggle/working/) that gets preserved as output when you create a version using \"Save & Run All\"\n",
        "# You can also write temporary files to /kaggle/temp/, but they won't be saved outside of the current session"
      ],
      "metadata": {
        "_uuid": "8f2839f25d086af736a60e9eeb907d3b93b6e0e5",
        "_cell_guid": "b1076dfc-b9ad-4769-8c92-a6c4dae69d19",
        "trusted": true,
        "execution": {
          "iopub.status.busy": "2025-03-08T11:14:12.787820Z",
          "iopub.execute_input": "2025-03-08T11:14:12.788203Z",
          "iopub.status.idle": "2025-03-08T11:14:15.198510Z",
          "shell.execute_reply.started": "2025-03-08T11:14:12.788168Z",
          "shell.execute_reply": "2025-03-08T11:14:15.197382Z"
        },
        "id": "3BM8mOhOpha6",
        "outputId": "6dcd8b1b-d588-4da1-aa47-cc836a725d03"
      },
      "outputs": [
        {
          "name": "stdout",
          "text": "/kaggle/input/sa-twitter/train.csv\n/kaggle/input/sa-twitter/test.csv\n",
          "output_type": "stream"
        }
      ],
      "execution_count": null
    },
    {
      "cell_type": "markdown",
      "source": [
        "**Display Max Columns & Rows**"
      ],
      "metadata": {
        "id": "KH7I6jpKpha8"
      }
    },
    {
      "cell_type": "code",
      "source": [
        "pd.set_option('display.max_columns', None)\n",
        "pd.set_option('display.max_rows', None)"
      ],
      "metadata": {
        "trusted": true,
        "execution": {
          "iopub.status.busy": "2025-03-08T11:14:15.199888Z",
          "iopub.execute_input": "2025-03-08T11:14:15.200409Z",
          "iopub.status.idle": "2025-03-08T11:14:15.205093Z",
          "shell.execute_reply.started": "2025-03-08T11:14:15.200377Z",
          "shell.execute_reply": "2025-03-08T11:14:15.203814Z"
        },
        "id": "S6mYzLJbpha9"
      },
      "outputs": [],
      "execution_count": null
    },
    {
      "cell_type": "markdown",
      "source": [
        "**Load the Training & Testing Dataset**"
      ],
      "metadata": {
        "id": "AtdfP5nvpha9"
      }
    },
    {
      "cell_type": "code",
      "source": [
        "train_data = pd.read_csv('/kaggle/input/sa-twitter/train.csv',encoding='latin1');\n",
        "test_data = pd.read_csv('/kaggle/input/sa-twitter/test.csv',encoding='latin1');\n"
      ],
      "metadata": {
        "trusted": true,
        "execution": {
          "iopub.status.busy": "2025-03-08T11:14:15.207800Z",
          "iopub.execute_input": "2025-03-08T11:14:15.208184Z",
          "iopub.status.idle": "2025-03-08T11:14:15.454376Z",
          "shell.execute_reply.started": "2025-03-08T11:14:15.208145Z",
          "shell.execute_reply": "2025-03-08T11:14:15.453297Z"
        },
        "id": "GPBJjeOrpha9"
      },
      "outputs": [],
      "execution_count": null
    },
    {
      "cell_type": "markdown",
      "source": [
        "**Concatenate train and test dataset**"
      ],
      "metadata": {
        "id": "8LLisl9ppha9"
      }
    },
    {
      "cell_type": "code",
      "source": [
        "df = pd.concat([train_data,test_data])"
      ],
      "metadata": {
        "trusted": true,
        "execution": {
          "iopub.status.busy": "2025-03-08T11:14:15.455945Z",
          "iopub.execute_input": "2025-03-08T11:14:15.456408Z",
          "iopub.status.idle": "2025-03-08T11:14:15.474561Z",
          "shell.execute_reply.started": "2025-03-08T11:14:15.456365Z",
          "shell.execute_reply": "2025-03-08T11:14:15.473469Z"
        },
        "id": "xyVhzbPUpha9"
      },
      "outputs": [],
      "execution_count": null
    },
    {
      "cell_type": "markdown",
      "source": [
        "**Display first 5 rows of the dataset**"
      ],
      "metadata": {
        "id": "4jJQWwCKpha9"
      }
    },
    {
      "cell_type": "code",
      "source": [
        "df.head()"
      ],
      "metadata": {
        "trusted": true,
        "execution": {
          "iopub.status.busy": "2025-03-08T11:14:15.475779Z",
          "iopub.execute_input": "2025-03-08T11:14:15.476247Z",
          "iopub.status.idle": "2025-03-08T11:14:15.512841Z",
          "shell.execute_reply.started": "2025-03-08T11:14:15.476183Z",
          "shell.execute_reply": "2025-03-08T11:14:15.511840Z"
        },
        "id": "RmKYJqtfpha9",
        "outputId": "2ec557c6-81fe-4cb3-cb92-44356f3ebb42"
      },
      "outputs": [
        {
          "execution_count": 5,
          "output_type": "execute_result",
          "data": {
            "text/plain": "       textID                                               text  \\\n0  cb774db0d1                I`d have responded, if I were going   \n1  549e992a42      Sooo SAD I will miss you here in San Diego!!!   \n2  088c60f138                          my boss is bullying me...   \n3  9642c003ef                     what interview! leave me alone   \n4  358bd9e861   Sons of ****, why couldn`t they put them on t...   \n\n                         selected_text sentiment Time of Tweet Age of User  \\\n0  I`d have responded, if I were going   neutral       morning        0-20   \n1                             Sooo SAD  negative          noon       21-30   \n2                          bullying me  negative         night       31-45   \n3                       leave me alone  negative       morning       46-60   \n4                        Sons of ****,  negative          noon       60-70   \n\n       Country  Population -2020  Land Area (Km²)  Density (P/Km²)  \n0  Afghanistan        38928346.0         652860.0             60.0  \n1      Albania         2877797.0          27400.0            105.0  \n2      Algeria        43851044.0        2381740.0             18.0  \n3      Andorra           77265.0            470.0            164.0  \n4       Angola        32866272.0        1246700.0             26.0  ",
            "text/html": "<div>\n<style scoped>\n    .dataframe tbody tr th:only-of-type {\n        vertical-align: middle;\n    }\n\n    .dataframe tbody tr th {\n        vertical-align: top;\n    }\n\n    .dataframe thead th {\n        text-align: right;\n    }\n</style>\n<table border=\"1\" class=\"dataframe\">\n  <thead>\n    <tr style=\"text-align: right;\">\n      <th></th>\n      <th>textID</th>\n      <th>text</th>\n      <th>selected_text</th>\n      <th>sentiment</th>\n      <th>Time of Tweet</th>\n      <th>Age of User</th>\n      <th>Country</th>\n      <th>Population -2020</th>\n      <th>Land Area (Km²)</th>\n      <th>Density (P/Km²)</th>\n    </tr>\n  </thead>\n  <tbody>\n    <tr>\n      <th>0</th>\n      <td>cb774db0d1</td>\n      <td>I`d have responded, if I were going</td>\n      <td>I`d have responded, if I were going</td>\n      <td>neutral</td>\n      <td>morning</td>\n      <td>0-20</td>\n      <td>Afghanistan</td>\n      <td>38928346.0</td>\n      <td>652860.0</td>\n      <td>60.0</td>\n    </tr>\n    <tr>\n      <th>1</th>\n      <td>549e992a42</td>\n      <td>Sooo SAD I will miss you here in San Diego!!!</td>\n      <td>Sooo SAD</td>\n      <td>negative</td>\n      <td>noon</td>\n      <td>21-30</td>\n      <td>Albania</td>\n      <td>2877797.0</td>\n      <td>27400.0</td>\n      <td>105.0</td>\n    </tr>\n    <tr>\n      <th>2</th>\n      <td>088c60f138</td>\n      <td>my boss is bullying me...</td>\n      <td>bullying me</td>\n      <td>negative</td>\n      <td>night</td>\n      <td>31-45</td>\n      <td>Algeria</td>\n      <td>43851044.0</td>\n      <td>2381740.0</td>\n      <td>18.0</td>\n    </tr>\n    <tr>\n      <th>3</th>\n      <td>9642c003ef</td>\n      <td>what interview! leave me alone</td>\n      <td>leave me alone</td>\n      <td>negative</td>\n      <td>morning</td>\n      <td>46-60</td>\n      <td>Andorra</td>\n      <td>77265.0</td>\n      <td>470.0</td>\n      <td>164.0</td>\n    </tr>\n    <tr>\n      <th>4</th>\n      <td>358bd9e861</td>\n      <td>Sons of ****, why couldn`t they put them on t...</td>\n      <td>Sons of ****,</td>\n      <td>negative</td>\n      <td>noon</td>\n      <td>60-70</td>\n      <td>Angola</td>\n      <td>32866272.0</td>\n      <td>1246700.0</td>\n      <td>26.0</td>\n    </tr>\n  </tbody>\n</table>\n</div>"
          },
          "metadata": {}
        }
      ],
      "execution_count": null
    },
    {
      "cell_type": "markdown",
      "source": [
        "**Check data types**"
      ],
      "metadata": {
        "id": "BSz5RfTupha9"
      }
    },
    {
      "cell_type": "code",
      "source": [
        "df.info()"
      ],
      "metadata": {
        "trusted": true,
        "execution": {
          "iopub.status.busy": "2025-03-08T11:14:15.513742Z",
          "iopub.execute_input": "2025-03-08T11:14:15.514008Z",
          "iopub.status.idle": "2025-03-08T11:14:15.553277Z",
          "shell.execute_reply.started": "2025-03-08T11:14:15.513985Z",
          "shell.execute_reply": "2025-03-08T11:14:15.552132Z"
        },
        "id": "-DFFqFeLpha-",
        "outputId": "a9dee20c-078c-4702-8e28-cec5d1879386"
      },
      "outputs": [
        {
          "name": "stdout",
          "text": "<class 'pandas.core.frame.DataFrame'>\nIndex: 32296 entries, 0 to 4814\nData columns (total 10 columns):\n #   Column            Non-Null Count  Dtype  \n---  ------            --------------  -----  \n 0   textID            31015 non-null  object \n 1   text              31014 non-null  object \n 2   selected_text     27480 non-null  object \n 3   sentiment         31015 non-null  object \n 4   Time of Tweet     31015 non-null  object \n 5   Age of User       31015 non-null  object \n 6   Country           31015 non-null  object \n 7   Population -2020  31015 non-null  float64\n 8   Land Area (Km²)   31015 non-null  float64\n 9   Density (P/Km²)   31015 non-null  float64\ndtypes: float64(3), object(7)\nmemory usage: 2.7+ MB\n",
          "output_type": "stream"
        }
      ],
      "execution_count": null
    },
    {
      "cell_type": "markdown",
      "source": [
        "**Removal of unnecessary characters**"
      ],
      "metadata": {
        "id": "evkk5suhpha-"
      }
    },
    {
      "cell_type": "code",
      "source": [
        "def remove_unnecessary_characters(text):\n",
        "    text = re.sub(r'<.*?>', '', str(text))\n",
        "    text = re.sub(r'[^a-zA-Z0-9\\s]', '', str(text))\n",
        "    text = re.sub(r'\\s+', ' ', str(text)).strip()\n",
        "    return text\n",
        "df['clean_text'] = df['text'].apply(remove_unnecessary_characters)"
      ],
      "metadata": {
        "trusted": true,
        "execution": {
          "iopub.status.busy": "2025-03-08T11:14:15.554268Z",
          "iopub.execute_input": "2025-03-08T11:14:15.554598Z",
          "iopub.status.idle": "2025-03-08T11:14:15.854912Z",
          "shell.execute_reply.started": "2025-03-08T11:14:15.554571Z",
          "shell.execute_reply": "2025-03-08T11:14:15.853777Z"
        },
        "id": "_949YYKNpha-"
      },
      "outputs": [],
      "execution_count": null
    },
    {
      "cell_type": "markdown",
      "source": [
        "**Tokenization**"
      ],
      "metadata": {
        "id": "QTXj0Xb4pha-"
      }
    },
    {
      "cell_type": "code",
      "source": [
        "def tokenize_text(text):\n",
        "    try:\n",
        "        text = str(text)\n",
        "        tokens = word_tokenize(text)\n",
        "        return tokens\n",
        "    except Exception as e:\n",
        "        print(f\"Error tokenizing text: {e}\")\n",
        "        return []\n",
        "df['tokens'] = df['text'].apply(tokenize_text)"
      ],
      "metadata": {
        "trusted": true,
        "execution": {
          "iopub.status.busy": "2025-03-08T11:14:15.857812Z",
          "iopub.execute_input": "2025-03-08T11:14:15.858165Z",
          "iopub.status.idle": "2025-03-08T11:14:21.645624Z",
          "shell.execute_reply.started": "2025-03-08T11:14:15.858134Z",
          "shell.execute_reply": "2025-03-08T11:14:21.644422Z"
        },
        "id": "LK4HmXGLpha-"
      },
      "outputs": [],
      "execution_count": null
    },
    {
      "cell_type": "markdown",
      "source": [
        "**Normalization**"
      ],
      "metadata": {
        "id": "8ionQMx4pha-"
      }
    },
    {
      "cell_type": "code",
      "source": [
        "def normalize_text(text):\n",
        "    if isinstance(text, str):\n",
        "        text = text.lower()\n",
        "        text = re.sub(r'[^\\w\\s]', '', text)\n",
        "        text = re.sub(r'\\s+', ' ', text).strip()\n",
        "    else:\n",
        "        text = str(text)\n",
        "    return text\n",
        "df['normalized_text'] = df['text'].apply(normalize_text)"
      ],
      "metadata": {
        "trusted": true,
        "execution": {
          "iopub.status.busy": "2025-03-08T11:14:21.647117Z",
          "iopub.execute_input": "2025-03-08T11:14:21.647497Z",
          "iopub.status.idle": "2025-03-08T11:14:21.942614Z",
          "shell.execute_reply.started": "2025-03-08T11:14:21.647459Z",
          "shell.execute_reply": "2025-03-08T11:14:21.941509Z"
        },
        "id": "U1Tg1sBBpha-"
      },
      "outputs": [],
      "execution_count": null
    },
    {
      "cell_type": "markdown",
      "source": [
        "**Removal of Stopwords**"
      ],
      "metadata": {
        "id": "8G2TQahzpha-"
      }
    },
    {
      "cell_type": "code",
      "source": [
        "def remove_stopwords(text):\n",
        "    if isinstance(text, str):\n",
        "        words = text.split()\n",
        "        filtered_words = [word for word in words if word.lower() not in stopwords.words('english')]\n",
        "        filtered_text = ' '.join(filtered_words)\n",
        "    else:\n",
        "        filtered_text = ''\n",
        "    return filtered_text\n",
        "df['text_without_stopwords'] = df['text'].apply(remove_stopwords)"
      ],
      "metadata": {
        "trusted": true,
        "execution": {
          "iopub.status.busy": "2025-03-08T11:14:21.943655Z",
          "iopub.execute_input": "2025-03-08T11:14:21.944053Z",
          "iopub.status.idle": "2025-03-08T11:15:07.429167Z",
          "shell.execute_reply.started": "2025-03-08T11:14:21.943993Z",
          "shell.execute_reply": "2025-03-08T11:15:07.428090Z"
        },
        "id": "oLahnumrpha-"
      },
      "outputs": [],
      "execution_count": null
    },
    {
      "cell_type": "markdown",
      "source": [
        "**Removal of Missing Values**"
      ],
      "metadata": {
        "id": "DYy2DVG9pha-"
      }
    },
    {
      "cell_type": "code",
      "source": [
        "df.dropna(inplace=True)"
      ],
      "metadata": {
        "trusted": true,
        "execution": {
          "iopub.status.busy": "2025-03-08T11:15:07.430386Z",
          "iopub.execute_input": "2025-03-08T11:15:07.430699Z",
          "iopub.status.idle": "2025-03-08T11:15:07.475714Z",
          "shell.execute_reply.started": "2025-03-08T11:15:07.430672Z",
          "shell.execute_reply": "2025-03-08T11:15:07.474506Z"
        },
        "id": "Ke5FYtGopha-"
      },
      "outputs": [],
      "execution_count": null
    },
    {
      "cell_type": "markdown",
      "source": [
        "**Sentiment Valuecounts**"
      ],
      "metadata": {
        "id": "7_WiaXaqpha-"
      }
    },
    {
      "cell_type": "code",
      "source": [
        "df['sentiment'].value_counts(normalize=True).plot(kind='bar');"
      ],
      "metadata": {
        "trusted": true,
        "execution": {
          "iopub.status.busy": "2025-03-08T11:15:07.476753Z",
          "iopub.execute_input": "2025-03-08T11:15:07.477116Z",
          "iopub.status.idle": "2025-03-08T11:15:07.809635Z",
          "shell.execute_reply.started": "2025-03-08T11:15:07.477073Z",
          "shell.execute_reply": "2025-03-08T11:15:07.808348Z"
        },
        "id": "woobhsUapha-",
        "outputId": "cb6371fe-9a29-4c65-d03b-9e3c620392c0"
      },
      "outputs": [
        {
          "output_type": "display_data",
          "data": {
            "text/plain": "<Figure size 640x480 with 1 Axes>",
            "image/png": "[encoded data removed]"
          },
          "metadata": {}
        }
      ],
      "execution_count": null
    },
    {
      "cell_type": "code",
      "source": [
        "df['sentiment'].value_counts()"
      ],
      "metadata": {
        "trusted": true,
        "execution": {
          "iopub.status.busy": "2025-03-08T11:15:07.810751Z",
          "iopub.execute_input": "2025-03-08T11:15:07.811141Z",
          "iopub.status.idle": "2025-03-08T11:15:07.823414Z",
          "shell.execute_reply.started": "2025-03-08T11:15:07.811106Z",
          "shell.execute_reply": "2025-03-08T11:15:07.822212Z"
        },
        "id": "raZUZek7pha_",
        "outputId": "aa95292b-0805-49d3-a16e-b21cfe246610"
      },
      "outputs": [
        {
          "execution_count": 13,
          "output_type": "execute_result",
          "data": {
            "text/plain": "sentiment\nneutral     11117\npositive     8582\nnegative     7781\nName: count, dtype: int64"
          },
          "metadata": {}
        }
      ],
      "execution_count": null
    },
    {
      "cell_type": "markdown",
      "source": [
        "**CATEGORIZATION**"
      ],
      "metadata": {
        "id": "V7hdSu0Lpha_"
      }
    },
    {
      "cell_type": "markdown",
      "source": [
        "convert the'sentiment' column in the DataFrame 'df' to categorical data and then encode it as numerical codes. Then I'll calculate the distribution of these emotion codes and plot it in a bar graph"
      ],
      "metadata": {
        "id": "zbeGIQy9pha_"
      }
    },
    {
      "cell_type": "code",
      "source": [
        "df['sentiment_code'] = df['sentiment'].astype('category').cat.codes\n",
        "sentiment_distribution = df['sentiment_code'].value_counts(normalize=True)\n",
        "sentiment_distribution.plot(kind='bar')\n",
        "plt.show()"
      ],
      "metadata": {
        "trusted": true,
        "execution": {
          "iopub.status.busy": "2025-03-08T11:15:07.824671Z",
          "iopub.execute_input": "2025-03-08T11:15:07.825057Z",
          "iopub.status.idle": "2025-03-08T11:15:07.988879Z",
          "shell.execute_reply.started": "2025-03-08T11:15:07.824996Z",
          "shell.execute_reply": "2025-03-08T11:15:07.987538Z"
        },
        "id": "OcwKz8Zvpha_",
        "outputId": "cd201b47-5eb6-4d65-d91f-b69ba115c6d0"
      },
      "outputs": [
        {
          "output_type": "display_data",
          "data": {
            "text/plain": "<Figure size 640x480 with 1 Axes>",
            "image/png": "[encoded data removed]"
          },
          "metadata": {}
        }
      ],
      "execution_count": null
    },
    {
      "cell_type": "markdown",
      "source": [
        "**Visualization Using Histplot**"
      ],
      "metadata": {
        "id": "yZpXvCygpha_"
      }
    },
    {
      "cell_type": "code",
      "source": [
        "sns.histplot(df['sentiment'], kde=True, color = 'r')\n",
        "plt.show()"
      ],
      "metadata": {
        "trusted": true,
        "execution": {
          "iopub.status.busy": "2025-03-08T11:15:07.990280Z",
          "iopub.execute_input": "2025-03-08T11:15:07.990677Z",
          "iopub.status.idle": "2025-03-08T11:15:08.333799Z",
          "shell.execute_reply.started": "2025-03-08T11:15:07.990643Z",
          "shell.execute_reply": "2025-03-08T11:15:08.332610Z"
        },
        "id": "nnVoooX6pha_",
        "outputId": "e67fa18b-a7fd-4a8a-c3c3-8c653b2b5c1c"
      },
      "outputs": [
        {
          "output_type": "display_data",
          "data": {
            "text/plain": "<Figure size 640x480 with 1 Axes>",
            "image/png": "[encoded data removed]"
          },
          "metadata": {}
        }
      ],
      "execution_count": null
    },
    {
      "cell_type": "markdown",
      "source": [
        "**Stems Words Using the Lancaster Stemmer**"
      ],
      "metadata": {
        "id": "S8U555yMpha_"
      }
    },
    {
      "cell_type": "markdown",
      "source": [
        "The stopwords and exclamation marks were removed from the data, and a Lancaster stemmer was applied to unify word forms. A text collection was then created from the DataFrame. Finally, the length of the corpus and its first element were printed."
      ],
      "metadata": {
        "id": "wLYTSnygpha_"
      }
    },
    {
      "cell_type": "code",
      "source": [
        "stuff_to_be_removed = list(stopwords.words('english'))+list(punctuation)\n",
        "stemmer = LancasterStemmer()\n",
        "corpus = df['text'].tolist()\n",
        "print(len(corpus))\n",
        "print(corpus[0])"
      ],
      "metadata": {
        "trusted": true,
        "execution": {
          "iopub.status.busy": "2025-03-08T11:15:08.335107Z",
          "iopub.execute_input": "2025-03-08T11:15:08.335572Z",
          "iopub.status.idle": "2025-03-08T11:15:08.343663Z",
          "shell.execute_reply.started": "2025-03-08T11:15:08.335541Z",
          "shell.execute_reply": "2025-03-08T11:15:08.342445Z"
        },
        "id": "WxBJ_pj2pha_",
        "outputId": "7f2aa7a0-5737-4e2d-8369-274e8e0f8419"
      },
      "outputs": [
        {
          "name": "stdout",
          "text": "27480\n I`d have responded, if I were going\n",
          "output_type": "stream"
        }
      ],
      "execution_count": null
    },
    {
      "cell_type": "markdown",
      "source": [
        "**Word Frequency Distribution**"
      ],
      "metadata": {
        "id": "5C5bGUIkpha_"
      }
    },
    {
      "cell_type": "code",
      "source": [
        "import nltk\n",
        "from nltk.tokenize import word_tokenize\n",
        "from nltk.probability import FreqDist\n",
        "import matplotlib.pyplot as plt\n",
        "\n",
        "# Ensure NLTK's tokenizer is available\n",
        "nltk.download('punkt')\n",
        "\n",
        "# Tokenizing words from the 'sentiment' column after joining all text\n",
        "text_data = ' '.join(df['sentiment'].dropna())  # Drop NaN values if any\n",
        "word_tokens = word_tokenize(text_data)\n",
        "\n",
        "# Compute word frequency distribution\n",
        "word_freq = FreqDist(word_tokens)\n",
        "\n",
        "# Plot the top 20 most common words\n",
        "plt.figure(figsize=(10, 6))\n",
        "word_freq.plot(20, cumulative=False)\n",
        "plt.title('Word Frequency Distribution')\n",
        "plt.xlabel('Word')\n",
        "plt.ylabel('Frequency')\n",
        "plt.show()\n"
      ],
      "metadata": {
        "trusted": true,
        "execution": {
          "iopub.status.busy": "2025-03-08T11:15:08.344729Z",
          "iopub.execute_input": "2025-03-08T11:15:08.345137Z",
          "iopub.status.idle": "2025-03-08T11:15:40.872446Z",
          "shell.execute_reply.started": "2025-03-08T11:15:08.345096Z",
          "shell.execute_reply": "2025-03-08T11:15:40.871258Z"
        },
        "id": "5geFFwVrpha_",
        "outputId": "b053fadc-1abb-4d03-f4e2-4aaaa1903498"
      },
      "outputs": [
        {
          "name": "stdout",
          "text": "[nltk_data] Error loading punkt: <urlopen error [Errno -3] Temporary\n[nltk_data]     failure in name resolution>\n",
          "output_type": "stream"
        },
        {
          "output_type": "display_data",
          "data": {
            "text/plain": "<Figure size 1000x600 with 1 Axes>",
            "image/png": "[encoded data removed]"
          },
          "metadata": {}
        },
        {
          "output_type": "display_data",
          "data": {
            "text/plain": "<Figure size 640x480 with 1 Axes>",
            "image/png": "[encoded data removed]"
          },
          "metadata": {}
        }
      ],
      "execution_count": null
    },
    {
      "cell_type": "markdown",
      "source": [
        "**Convert to Strings**"
      ],
      "metadata": {
        "id": "JADeH44dpha_"
      }
    },
    {
      "cell_type": "markdown",
      "source": [
        "Two columns, \"text\" and \"sentiment,\" were created in DataFrameData_eda. The \"text\" column stores the tweet text, which was converted to strings and stored in a list (final_corpus), while the \"sentiment\" column retains the sentiment values from the original DataFrame (df)."
      ],
      "metadata": {
        "id": "CP_3dEywpha_"
      }
    },
    {
      "cell_type": "code",
      "source": [
        "final_corpus = df['text'].astype(str).tolist()\n",
        "data_eda = pd.DataFrame()\n",
        "data_eda['text'] = final_corpus\n",
        "data_eda['sentiment'] = df[\"sentiment\"].values\n",
        "data_eda.head()"
      ],
      "metadata": {
        "trusted": true,
        "execution": {
          "iopub.status.busy": "2025-03-08T11:15:40.873300Z",
          "iopub.execute_input": "2025-03-08T11:15:40.873590Z",
          "iopub.status.idle": "2025-03-08T11:15:40.892841Z",
          "shell.execute_reply.started": "2025-03-08T11:15:40.873566Z",
          "shell.execute_reply": "2025-03-08T11:15:40.891678Z"
        },
        "id": "Zqfo6ib2pha_",
        "outputId": "0c6fb5d3-8310-4098-aa70-95f745522eee"
      },
      "outputs": [
        {
          "execution_count": 18,
          "output_type": "execute_result",
          "data": {
            "text/plain": "                                                text sentiment\n0                I`d have responded, if I were going   neutral\n1      Sooo SAD I will miss you here in San Diego!!!  negative\n2                          my boss is bullying me...  negative\n3                     what interview! leave me alone  negative\n4   Sons of ****, why couldn`t they put them on t...  negative",
            "text/html": "<div>\n<style scoped>\n    .dataframe tbody tr th:only-of-type {\n        vertical-align: middle;\n    }\n\n    .dataframe tbody tr th {\n        vertical-align: top;\n    }\n\n    .dataframe thead th {\n        text-align: right;\n    }\n</style>\n<table border=\"1\" class=\"dataframe\">\n  <thead>\n    <tr style=\"text-align: right;\">\n      <th></th>\n      <th>text</th>\n      <th>sentiment</th>\n    </tr>\n  </thead>\n  <tbody>\n    <tr>\n      <th>0</th>\n      <td>I`d have responded, if I were going</td>\n      <td>neutral</td>\n    </tr>\n    <tr>\n      <th>1</th>\n      <td>Sooo SAD I will miss you here in San Diego!!!</td>\n      <td>negative</td>\n    </tr>\n    <tr>\n      <th>2</th>\n      <td>my boss is bullying me...</td>\n      <td>negative</td>\n    </tr>\n    <tr>\n      <th>3</th>\n      <td>what interview! leave me alone</td>\n      <td>negative</td>\n    </tr>\n    <tr>\n      <th>4</th>\n      <td>Sons of ****, why couldn`t they put them on t...</td>\n      <td>negative</td>\n    </tr>\n  </tbody>\n</table>\n</div>"
          },
          "metadata": {}
        }
      ],
      "execution_count": null
    },
    {
      "cell_type": "code",
      "source": [
        "df['Time of Tweet'] = df['Time of Tweet'].astype('category').cat.codes\n",
        "df['Country'] = df['Country'].astype('category').cat.codes\n",
        "df['Age of User']=df['Age of User'].replace({'0-20':18,'21-30':25,'31-45':38,'46-60':53,'60-70':65,'70-100':80})"
      ],
      "metadata": {
        "trusted": true,
        "execution": {
          "iopub.status.busy": "2025-03-08T11:15:40.905503Z",
          "iopub.execute_input": "2025-03-08T11:15:40.905786Z",
          "iopub.status.idle": "2025-03-08T11:15:40.944651Z",
          "shell.execute_reply.started": "2025-03-08T11:15:40.905761Z",
          "shell.execute_reply": "2025-03-08T11:15:40.943467Z"
        },
        "id": "DSM7ek_6phbA"
      },
      "outputs": [],
      "execution_count": null
    },
    {
      "cell_type": "markdown",
      "source": [
        "**Removal of Irrelevent Columns**"
      ],
      "metadata": {
        "id": "NaomFrWuphbA"
      }
    },
    {
      "cell_type": "code",
      "source": [
        "df=df.drop(columns=['textID','Time of Tweet', 'Age of User', 'Country', 'Population -2020', 'Land Area (Km²)', 'Density (P/Km²)'])"
      ],
      "metadata": {
        "trusted": true,
        "execution": {
          "iopub.status.busy": "2025-03-08T11:15:40.945776Z",
          "iopub.execute_input": "2025-03-08T11:15:40.946157Z",
          "iopub.status.idle": "2025-03-08T11:15:40.958637Z",
          "shell.execute_reply.started": "2025-03-08T11:15:40.946109Z",
          "shell.execute_reply": "2025-03-08T11:15:40.957453Z"
        },
        "id": "E8UI3UKdphbF"
      },
      "outputs": [],
      "execution_count": null
    },
    {
      "cell_type": "markdown",
      "source": [
        "PREPROCESS TEXT"
      ],
      "metadata": {
        "id": "4XufScPgphbF"
      }
    },
    {
      "cell_type": "markdown",
      "source": [
        "A function, wp(text), was defined to preprocess text data by removing URLs, HTML tags, punctuation, newline characters, and alphanumeric words containing digits. This preprocessing function was then applied to the 'selected_text' column of the DataFrame, DF."
      ],
      "metadata": {
        "id": "ApvvGQ3uphbF"
      }
    },
    {
      "cell_type": "code",
      "source": [
        "import string\n",
        "def wp(text):\n",
        "    text = re.sub('https?://\\S+|www\\.\\S+', '', text)\n",
        "    text = re.sub('<.*?>+', '', text)\n",
        "    text = re.sub('[%s]' % re.escape(string.punctuation), '', text)\n",
        "    text = re.sub('\\n', '', text)\n",
        "    text = re.sub('\\w*\\d\\w*', '', text)\n",
        "    return text\n",
        "df['selected_text'] = df[\"selected_text\"].apply(wp)"
      ],
      "metadata": {
        "trusted": true,
        "execution": {
          "iopub.status.busy": "2025-03-08T11:26:09.256600Z",
          "iopub.execute_input": "2025-03-08T11:26:09.256935Z",
          "iopub.status.idle": "2025-03-08T11:26:09.613759Z",
          "shell.execute_reply.started": "2025-03-08T11:26:09.256909Z",
          "shell.execute_reply": "2025-03-08T11:26:09.612565Z"
        },
        "id": "gVyZ-A8JphbF"
      },
      "outputs": [],
      "execution_count": null
    },
    {
      "cell_type": "markdown",
      "source": [
        "**Evaluation of Dataset**"
      ],
      "metadata": {
        "id": "dm_G-W72phbF"
      }
    },
    {
      "cell_type": "code",
      "source": [
        "X=df['selected_text']\n",
        "y= df['sentiment']"
      ],
      "metadata": {
        "trusted": true,
        "execution": {
          "iopub.status.busy": "2025-03-08T11:26:37.691132Z",
          "iopub.execute_input": "2025-03-08T11:26:37.691460Z",
          "iopub.status.idle": "2025-03-08T11:26:37.696373Z",
          "shell.execute_reply.started": "2025-03-08T11:26:37.691436Z",
          "shell.execute_reply": "2025-03-08T11:26:37.694912Z"
        },
        "id": "AfrRl5NwphbF"
      },
      "outputs": [],
      "execution_count": null
    },
    {
      "cell_type": "code",
      "source": [
        "from sklearn.model_selection import train_test_split\n",
        "X_train, X_test, y_train, y_test = train_test_split(X,y,test_size=0.2,random_state=42)"
      ],
      "metadata": {
        "trusted": true,
        "execution": {
          "iopub.status.busy": "2025-03-08T11:26:49.450821Z",
          "iopub.execute_input": "2025-03-08T11:26:49.451262Z",
          "iopub.status.idle": "2025-03-08T11:26:49.461868Z",
          "shell.execute_reply.started": "2025-03-08T11:26:49.451228Z",
          "shell.execute_reply": "2025-03-08T11:26:49.460666Z"
        },
        "id": "7CV7YFvBphbF"
      },
      "outputs": [],
      "execution_count": null
    },
    {
      "cell_type": "markdown",
      "source": [
        "**Creating TF-IDF**"
      ],
      "metadata": {
        "id": "soH0cFVSphbG"
      }
    },
    {
      "cell_type": "code",
      "source": [
        "from sklearn.feature_extraction.text import TfidfVectorizer\n",
        "vectorization = TfidfVectorizer()\n",
        "XV_train = vectorization.fit_transform(X_train)\n",
        "XV_test = vectorization.transform(X_test)"
      ],
      "metadata": {
        "trusted": true,
        "execution": {
          "iopub.status.busy": "2025-03-08T11:38:08.001402Z",
          "iopub.execute_input": "2025-03-08T11:38:08.001765Z",
          "iopub.status.idle": "2025-03-08T11:38:08.412578Z",
          "shell.execute_reply.started": "2025-03-08T11:38:08.001735Z",
          "shell.execute_reply": "2025-03-08T11:38:08.411578Z"
        },
        "id": "ZIdBc5NvphbG"
      },
      "outputs": [],
      "execution_count": null
    },
    {
      "cell_type": "code",
      "source": [
        "score_baseline = df['sentiment'].value_counts(normalize=True).max()\n",
        "score_baseline"
      ],
      "metadata": {
        "trusted": true,
        "execution": {
          "iopub.status.busy": "2025-03-08T11:38:20.862458Z",
          "iopub.execute_input": "2025-03-08T11:38:20.862776Z",
          "iopub.status.idle": "2025-03-08T11:38:20.872758Z",
          "shell.execute_reply.started": "2025-03-08T11:38:20.862752Z",
          "shell.execute_reply": "2025-03-08T11:38:20.871447Z"
        },
        "id": "TPoLnJVlphbG",
        "outputId": "83cb838c-a9e7-4e3b-fc4e-b3062b4b813d"
      },
      "outputs": [
        {
          "execution_count": 26,
          "output_type": "execute_result",
          "data": {
            "text/plain": "0.40454876273653567"
          },
          "metadata": {}
        }
      ],
      "execution_count": null
    },
    {
      "cell_type": "markdown",
      "source": [
        "**Logistic Regression**"
      ],
      "metadata": {
        "id": "w1qtBWkDphbG"
      }
    },
    {
      "cell_type": "code",
      "source": [
        "from sklearn.linear_model import LogisticRegression\n",
        "lr = LogisticRegression(n_jobs=-1)\n",
        "lr.fit(XV_train,y_train)"
      ],
      "metadata": {
        "trusted": true,
        "execution": {
          "iopub.status.busy": "2025-03-08T11:38:55.712328Z",
          "iopub.execute_input": "2025-03-08T11:38:55.712670Z",
          "iopub.status.idle": "2025-03-08T11:38:58.381936Z",
          "shell.execute_reply.started": "2025-03-08T11:38:55.712641Z",
          "shell.execute_reply": "2025-03-08T11:38:58.380638Z"
        },
        "id": "6iKvm6WUphbG",
        "outputId": "9c8db4d0-9c79-4c1f-f66a-9facd6066bc5"
      },
      "outputs": [
        {
          "execution_count": 27,
          "output_type": "execute_result",
          "data": {
            "text/plain": "LogisticRegression(n_jobs=-1)",
            "text/html": "<style>#sk-container-id-1 {color: black;background-color: white;}#sk-container-id-1 pre{padding: 0;}#sk-container-id-1 div.sk-toggleable {background-color: white;}#sk-container-id-1 label.sk-toggleable__label {cursor: pointer;display: block;width: 100%;margin-bottom: 0;padding: 0.3em;box-sizing: border-box;text-align: center;}#sk-container-id-1 label.sk-toggleable__label-arrow:before {content: \"▸\";float: left;margin-right: 0.25em;color: #696969;}#sk-container-id-1 label.sk-toggleable__label-arrow:hover:before {color: black;}#sk-container-id-1 div.sk-estimator:hover label.sk-toggleable__label-arrow:before {color: black;}#sk-container-id-1 div.sk-toggleable__content {max-height: 0;max-width: 0;overflow: hidden;text-align: left;background-color: #f0f8ff;}#sk-container-id-1 div.sk-toggleable__content pre {margin: 0.2em;color: black;border-radius: 0.25em;background-color: #f0f8ff;}#sk-container-id-1 input.sk-toggleable__control:checked~div.sk-toggleable__content {max-height: 200px;max-width: 100%;overflow: auto;}#sk-container-id-1 input.sk-toggleable__control:checked~label.sk-toggleable__label-arrow:before {content: \"▾\";}#sk-container-id-1 div.sk-estimator input.sk-toggleable__control:checked~label.sk-toggleable__label {background-color: #d4ebff;}#sk-container-id-1 div.sk-label input.sk-toggleable__control:checked~label.sk-toggleable__label {background-color: #d4ebff;}#sk-container-id-1 input.sk-hidden--visually {border: 0;clip: rect(1px 1px 1px 1px);clip: rect(1px, 1px, 1px, 1px);height: 1px;margin: -1px;overflow: hidden;padding: 0;position: absolute;width: 1px;}#sk-container-id-1 div.sk-estimator {font-family: monospace;background-color: #f0f8ff;border: 1px dotted black;border-radius: 0.25em;box-sizing: border-box;margin-bottom: 0.5em;}#sk-container-id-1 div.sk-estimator:hover {background-color: #d4ebff;}#sk-container-id-1 div.sk-parallel-item::after {content: \"\";width: 100%;border-bottom: 1px solid gray;flex-grow: 1;}#sk-container-id-1 div.sk-label:hover label.sk-toggleable__label {background-color: #d4ebff;}#sk-container-id-1 div.sk-serial::before {content: \"\";position: absolute;border-left: 1px solid gray;box-sizing: border-box;top: 0;bottom: 0;left: 50%;z-index: 0;}#sk-container-id-1 div.sk-serial {display: flex;flex-direction: column;align-items: center;background-color: white;padding-right: 0.2em;padding-left: 0.2em;position: relative;}#sk-container-id-1 div.sk-item {position: relative;z-index: 1;}#sk-container-id-1 div.sk-parallel {display: flex;align-items: stretch;justify-content: center;background-color: white;position: relative;}#sk-container-id-1 div.sk-item::before, #sk-container-id-1 div.sk-parallel-item::before {content: \"\";position: absolute;border-left: 1px solid gray;box-sizing: border-box;top: 0;bottom: 0;left: 50%;z-index: -1;}#sk-container-id-1 div.sk-parallel-item {display: flex;flex-direction: column;z-index: 1;position: relative;background-color: white;}#sk-container-id-1 div.sk-parallel-item:first-child::after {align-self: flex-end;width: 50%;}#sk-container-id-1 div.sk-parallel-item:last-child::after {align-self: flex-start;width: 50%;}#sk-container-id-1 div.sk-parallel-item:only-child::after {width: 0;}#sk-container-id-1 div.sk-dashed-wrapped {border: 1px dashed gray;margin: 0 0.4em 0.5em 0.4em;box-sizing: border-box;padding-bottom: 0.4em;background-color: white;}#sk-container-id-1 div.sk-label label {font-family: monospace;font-weight: bold;display: inline-block;line-height: 1.2em;}#sk-container-id-1 div.sk-label-container {text-align: center;}#sk-container-id-1 div.sk-container {/* jupyter's `normalize.less` sets `[hidden] { display: none; }` but bootstrap.min.css set `[hidden] { display: none !important; }` so we also need the `!important` here to be able to override the default hidden behavior on the sphinx rendered scikit-learn.org. See: https://github.com/scikit-learn/scikit-learn/issues/21755 */display: inline-block !important;position: relative;}#sk-container-id-1 div.sk-text-repr-fallback {display: none;}</style><div id=\"sk-container-id-1\" class=\"sk-top-container\"><div class=\"sk-text-repr-fallback\"><pre>LogisticRegression(n_jobs=-1)</pre><b>In a Jupyter environment, please rerun this cell to show the HTML representation or trust the notebook. <br />On GitHub, the HTML representation is unable to render, please try loading this page with nbviewer.org.</b></div><div class=\"sk-container\" hidden><div class=\"sk-item\"><div class=\"sk-estimator sk-toggleable\"><input class=\"sk-toggleable__control sk-hidden--visually\" id=\"sk-estimator-id-1\" type=\"checkbox\" checked><label for=\"sk-estimator-id-1\" class=\"sk-toggleable__label sk-toggleable__label-arrow\">LogisticRegression</label><div class=\"sk-toggleable__content\"><pre>LogisticRegression(n_jobs=-1)</pre></div></div></div></div></div>"
          },
          "metadata": {}
        }
      ],
      "execution_count": null
    },
    {
      "cell_type": "code",
      "source": [
        "pred_lr=lr.predict(XV_test)"
      ],
      "metadata": {
        "trusted": true,
        "execution": {
          "iopub.status.busy": "2025-03-08T11:39:11.634379Z",
          "iopub.execute_input": "2025-03-08T11:39:11.634741Z",
          "iopub.status.idle": "2025-03-08T11:39:11.641166Z",
          "shell.execute_reply.started": "2025-03-08T11:39:11.634711Z",
          "shell.execute_reply": "2025-03-08T11:39:11.640165Z"
        },
        "id": "gqHZ2bpbphbG"
      },
      "outputs": [],
      "execution_count": null
    },
    {
      "cell_type": "code",
      "source": [
        "from sklearn.metrics import accuracy_score,classification_report, ConfusionMatrixDisplay\n",
        "score_lr = accuracy_score(y_test, pred_lr)\n",
        "score_lr"
      ],
      "metadata": {
        "trusted": true,
        "execution": {
          "iopub.status.busy": "2025-03-08T11:39:24.054162Z",
          "iopub.execute_input": "2025-03-08T11:39:24.054550Z",
          "iopub.status.idle": "2025-03-08T11:39:24.068500Z",
          "shell.execute_reply.started": "2025-03-08T11:39:24.054522Z",
          "shell.execute_reply": "2025-03-08T11:39:24.067378Z"
        },
        "id": "wmhMwh-6phbG",
        "outputId": "f4f837dc-099e-4a71-a1ff-89f8d610e044"
      },
      "outputs": [
        {
          "execution_count": 29,
          "output_type": "execute_result",
          "data": {
            "text/plain": "0.8286026200873362"
          },
          "metadata": {}
        }
      ],
      "execution_count": null
    },
    {
      "cell_type": "code",
      "source": [
        "print(classification_report(y_test, pred_lr))"
      ],
      "metadata": {
        "trusted": true,
        "execution": {
          "iopub.status.busy": "2025-03-08T11:39:34.191708Z",
          "iopub.execute_input": "2025-03-08T11:39:34.192114Z",
          "iopub.status.idle": "2025-03-08T11:39:34.350673Z",
          "shell.execute_reply.started": "2025-03-08T11:39:34.192076Z",
          "shell.execute_reply": "2025-03-08T11:39:34.349592Z"
        },
        "id": "v9jdnn4OphbG",
        "outputId": "15b93e7f-894b-4b44-c0c8-738e49035438"
      },
      "outputs": [
        {
          "name": "stdout",
          "text": "              precision    recall  f1-score   support\n\n    negative       0.81      0.79      0.80      1572\n     neutral       0.79      0.88      0.83      2236\n    positive       0.91      0.80      0.85      1688\n\n    accuracy                           0.83      5496\n   macro avg       0.84      0.82      0.83      5496\nweighted avg       0.83      0.83      0.83      5496\n\n",
          "output_type": "stream"
        }
      ],
      "execution_count": null
    },
    {
      "cell_type": "code",
      "source": [
        "ConfusionMatrixDisplay.from_predictions(y_test, pred_lr);"
      ],
      "metadata": {
        "trusted": true,
        "execution": {
          "iopub.status.busy": "2025-03-08T11:39:44.669973Z",
          "iopub.execute_input": "2025-03-08T11:39:44.670458Z",
          "iopub.status.idle": "2025-03-08T11:39:44.988688Z",
          "shell.execute_reply.started": "2025-03-08T11:39:44.670424Z",
          "shell.execute_reply": "2025-03-08T11:39:44.987472Z"
        },
        "id": "B5QDJ1c0phbG",
        "outputId": "833e3de1-3045-432c-8ad1-908b2bb218d0"
      },
      "outputs": [
        {
          "output_type": "display_data",
          "data": {
            "text/plain": "<Figure size 640x480 with 2 Axes>",
            "image/png": "[encoded data removed]"
          },
          "metadata": {}
        }
      ],
      "execution_count": null
    },
    {
      "cell_type": "markdown",
      "source": [
        "**Decision Tree Classifier**"
      ],
      "metadata": {
        "id": "C6HaEUsBphbG"
      }
    },
    {
      "cell_type": "code",
      "source": [
        "from sklearn.tree import DecisionTreeClassifier\n",
        "dt = DecisionTreeClassifier()\n",
        "dt.fit(XV_train, y_train)"
      ],
      "metadata": {
        "trusted": true,
        "execution": {
          "iopub.status.busy": "2025-03-08T11:40:33.241357Z",
          "iopub.execute_input": "2025-03-08T11:40:33.241714Z",
          "iopub.status.idle": "2025-03-08T11:40:38.363620Z",
          "shell.execute_reply.started": "2025-03-08T11:40:33.241688Z",
          "shell.execute_reply": "2025-03-08T11:40:38.362178Z"
        },
        "id": "ARz7iR7ephbG",
        "outputId": "86c9aa58-51a2-42a0-df51-61306ea6c29c"
      },
      "outputs": [
        {
          "execution_count": 32,
          "output_type": "execute_result",
          "data": {
            "text/plain": "DecisionTreeClassifier()",
            "text/html": "<style>#sk-container-id-2 {color: black;background-color: white;}#sk-container-id-2 pre{padding: 0;}#sk-container-id-2 div.sk-toggleable {background-color: white;}#sk-container-id-2 label.sk-toggleable__label {cursor: pointer;display: block;width: 100%;margin-bottom: 0;padding: 0.3em;box-sizing: border-box;text-align: center;}#sk-container-id-2 label.sk-toggleable__label-arrow:before {content: \"▸\";float: left;margin-right: 0.25em;color: #696969;}#sk-container-id-2 label.sk-toggleable__label-arrow:hover:before {color: black;}#sk-container-id-2 div.sk-estimator:hover label.sk-toggleable__label-arrow:before {color: black;}#sk-container-id-2 div.sk-toggleable__content {max-height: 0;max-width: 0;overflow: hidden;text-align: left;background-color: #f0f8ff;}#sk-container-id-2 div.sk-toggleable__content pre {margin: 0.2em;color: black;border-radius: 0.25em;background-color: #f0f8ff;}#sk-container-id-2 input.sk-toggleable__control:checked~div.sk-toggleable__content {max-height: 200px;max-width: 100%;overflow: auto;}#sk-container-id-2 input.sk-toggleable__control:checked~label.sk-toggleable__label-arrow:before {content: \"▾\";}#sk-container-id-2 div.sk-estimator input.sk-toggleable__control:checked~label.sk-toggleable__label {background-color: #d4ebff;}#sk-container-id-2 div.sk-label input.sk-toggleable__control:checked~label.sk-toggleable__label {background-color: #d4ebff;}#sk-container-id-2 input.sk-hidden--visually {border: 0;clip: rect(1px 1px 1px 1px);clip: rect(1px, 1px, 1px, 1px);height: 1px;margin: -1px;overflow: hidden;padding: 0;position: absolute;width: 1px;}#sk-container-id-2 div.sk-estimator {font-family: monospace;background-color: #f0f8ff;border: 1px dotted black;border-radius: 0.25em;box-sizing: border-box;margin-bottom: 0.5em;}#sk-container-id-2 div.sk-estimator:hover {background-color: #d4ebff;}#sk-container-id-2 div.sk-parallel-item::after {content: \"\";width: 100%;border-bottom: 1px solid gray;flex-grow: 1;}#sk-container-id-2 div.sk-label:hover label.sk-toggleable__label {background-color: #d4ebff;}#sk-container-id-2 div.sk-serial::before {content: \"\";position: absolute;border-left: 1px solid gray;box-sizing: border-box;top: 0;bottom: 0;left: 50%;z-index: 0;}#sk-container-id-2 div.sk-serial {display: flex;flex-direction: column;align-items: center;background-color: white;padding-right: 0.2em;padding-left: 0.2em;position: relative;}#sk-container-id-2 div.sk-item {position: relative;z-index: 1;}#sk-container-id-2 div.sk-parallel {display: flex;align-items: stretch;justify-content: center;background-color: white;position: relative;}#sk-container-id-2 div.sk-item::before, #sk-container-id-2 div.sk-parallel-item::before {content: \"\";position: absolute;border-left: 1px solid gray;box-sizing: border-box;top: 0;bottom: 0;left: 50%;z-index: -1;}#sk-container-id-2 div.sk-parallel-item {display: flex;flex-direction: column;z-index: 1;position: relative;background-color: white;}#sk-container-id-2 div.sk-parallel-item:first-child::after {align-self: flex-end;width: 50%;}#sk-container-id-2 div.sk-parallel-item:last-child::after {align-self: flex-start;width: 50%;}#sk-container-id-2 div.sk-parallel-item:only-child::after {width: 0;}#sk-container-id-2 div.sk-dashed-wrapped {border: 1px dashed gray;margin: 0 0.4em 0.5em 0.4em;box-sizing: border-box;padding-bottom: 0.4em;background-color: white;}#sk-container-id-2 div.sk-label label {font-family: monospace;font-weight: bold;display: inline-block;line-height: 1.2em;}#sk-container-id-2 div.sk-label-container {text-align: center;}#sk-container-id-2 div.sk-container {/* jupyter's `normalize.less` sets `[hidden] { display: none; }` but bootstrap.min.css set `[hidden] { display: none !important; }` so we also need the `!important` here to be able to override the default hidden behavior on the sphinx rendered scikit-learn.org. See: https://github.com/scikit-learn/scikit-learn/issues/21755 */display: inline-block !important;position: relative;}#sk-container-id-2 div.sk-text-repr-fallback {display: none;}</style><div id=\"sk-container-id-2\" class=\"sk-top-container\"><div class=\"sk-text-repr-fallback\"><pre>DecisionTreeClassifier()</pre><b>In a Jupyter environment, please rerun this cell to show the HTML representation or trust the notebook. <br />On GitHub, the HTML representation is unable to render, please try loading this page with nbviewer.org.</b></div><div class=\"sk-container\" hidden><div class=\"sk-item\"><div class=\"sk-estimator sk-toggleable\"><input class=\"sk-toggleable__control sk-hidden--visually\" id=\"sk-estimator-id-2\" type=\"checkbox\" checked><label for=\"sk-estimator-id-2\" class=\"sk-toggleable__label sk-toggleable__label-arrow\">DecisionTreeClassifier</label><div class=\"sk-toggleable__content\"><pre>DecisionTreeClassifier()</pre></div></div></div></div></div>"
          },
          "metadata": {}
        }
      ],
      "execution_count": null
    },
    {
      "cell_type": "code",
      "source": [
        "pred_dt = dt.predict(XV_test)"
      ],
      "metadata": {
        "trusted": true,
        "execution": {
          "iopub.status.busy": "2025-03-08T11:40:44.314840Z",
          "iopub.execute_input": "2025-03-08T11:40:44.315326Z",
          "iopub.status.idle": "2025-03-08T11:40:44.328680Z",
          "shell.execute_reply.started": "2025-03-08T11:40:44.315289Z",
          "shell.execute_reply": "2025-03-08T11:40:44.326717Z"
        },
        "id": "sGKAMOtDphbG"
      },
      "outputs": [],
      "execution_count": null
    },
    {
      "cell_type": "code",
      "source": [
        "score_dt = dt.score(XV_test, y_test)\n",
        "score_dt"
      ],
      "metadata": {
        "trusted": true,
        "execution": {
          "iopub.status.busy": "2025-03-08T11:40:55.343529Z",
          "iopub.execute_input": "2025-03-08T11:40:55.343886Z",
          "iopub.status.idle": "2025-03-08T11:40:55.366492Z",
          "shell.execute_reply.started": "2025-03-08T11:40:55.343849Z",
          "shell.execute_reply": "2025-03-08T11:40:55.365138Z"
        },
        "id": "1fhi97rVphbG",
        "outputId": "15a88bb7-ec1e-4f10-cfcd-0786a687dc32"
      },
      "outputs": [
        {
          "execution_count": 34,
          "output_type": "execute_result",
          "data": {
            "text/plain": "0.7556404657933042"
          },
          "metadata": {}
        }
      ],
      "execution_count": null
    },
    {
      "cell_type": "code",
      "source": [
        "print(classification_report(y_test, pred_dt))"
      ],
      "metadata": {
        "trusted": true,
        "execution": {
          "iopub.status.busy": "2025-03-08T11:41:05.249104Z",
          "iopub.execute_input": "2025-03-08T11:41:05.249476Z",
          "iopub.status.idle": "2025-03-08T11:41:05.425822Z",
          "shell.execute_reply.started": "2025-03-08T11:41:05.249445Z",
          "shell.execute_reply": "2025-03-08T11:41:05.424675Z"
        },
        "id": "HBJp3du_phbG",
        "outputId": "8fad6f65-da7e-45bd-dcda-5ac105fe7776"
      },
      "outputs": [
        {
          "name": "stdout",
          "text": "              precision    recall  f1-score   support\n\n    negative       0.69      0.75      0.72      1572\n     neutral       0.76      0.76      0.76      2236\n    positive       0.82      0.75      0.79      1688\n\n    accuracy                           0.76      5496\n   macro avg       0.76      0.75      0.76      5496\nweighted avg       0.76      0.76      0.76      5496\n\n",
          "output_type": "stream"
        }
      ],
      "execution_count": null
    },
    {
      "cell_type": "code",
      "source": [
        "ConfusionMatrixDisplay.from_predictions(y_test, pred_dt);"
      ],
      "metadata": {
        "trusted": true,
        "execution": {
          "iopub.status.busy": "2025-03-08T11:41:16.864238Z",
          "iopub.execute_input": "2025-03-08T11:41:16.864622Z",
          "iopub.status.idle": "2025-03-08T11:41:17.225680Z",
          "shell.execute_reply.started": "2025-03-08T11:41:16.864588Z",
          "shell.execute_reply": "2025-03-08T11:41:17.224086Z"
        },
        "id": "9orztJhfphbH",
        "outputId": "9be19af2-c727-4da0-ecbd-d416b1dd7f32"
      },
      "outputs": [
        {
          "output_type": "display_data",
          "data": {
            "text/plain": "<Figure size 640x480 with 2 Axes>",
            "image/png": "[encoded data removed]"
          },
          "metadata": {}
        }
      ],
      "execution_count": null
    },
    {
      "cell_type": "markdown",
      "source": [
        "**Random Forest Classifier**"
      ],
      "metadata": {
        "id": "lYTG_Fb4phbH"
      }
    },
    {
      "cell_type": "code",
      "source": [
        "from sklearn.ensemble import RandomForestClassifier\n",
        "\n",
        "rfc = RandomForestClassifier(random_state=0)\n",
        "rfc.fit(XV_train, y_train)"
      ],
      "metadata": {
        "trusted": true,
        "execution": {
          "iopub.status.busy": "2025-03-08T11:42:18.244358Z",
          "iopub.execute_input": "2025-03-08T11:42:18.244785Z",
          "iopub.status.idle": "2025-03-08T11:42:55.518982Z",
          "shell.execute_reply.started": "2025-03-08T11:42:18.244748Z",
          "shell.execute_reply": "2025-03-08T11:42:55.517420Z"
        },
        "id": "xbX0xWjkphbH",
        "outputId": "563f03e4-6dd8-474e-b719-f9702569b7d3"
      },
      "outputs": [
        {
          "execution_count": 37,
          "output_type": "execute_result",
          "data": {
            "text/plain": "RandomForestClassifier(random_state=0)",
            "text/html": "<style>#sk-container-id-3 {color: black;background-color: white;}#sk-container-id-3 pre{padding: 0;}#sk-container-id-3 div.sk-toggleable {background-color: white;}#sk-container-id-3 label.sk-toggleable__label {cursor: pointer;display: block;width: 100%;margin-bottom: 0;padding: 0.3em;box-sizing: border-box;text-align: center;}#sk-container-id-3 label.sk-toggleable__label-arrow:before {content: \"▸\";float: left;margin-right: 0.25em;color: #696969;}#sk-container-id-3 label.sk-toggleable__label-arrow:hover:before {color: black;}#sk-container-id-3 div.sk-estimator:hover label.sk-toggleable__label-arrow:before {color: black;}#sk-container-id-3 div.sk-toggleable__content {max-height: 0;max-width: 0;overflow: hidden;text-align: left;background-color: #f0f8ff;}#sk-container-id-3 div.sk-toggleable__content pre {margin: 0.2em;color: black;border-radius: 0.25em;background-color: #f0f8ff;}#sk-container-id-3 input.sk-toggleable__control:checked~div.sk-toggleable__content {max-height: 200px;max-width: 100%;overflow: auto;}#sk-container-id-3 input.sk-toggleable__control:checked~label.sk-toggleable__label-arrow:before {content: \"▾\";}#sk-container-id-3 div.sk-estimator input.sk-toggleable__control:checked~label.sk-toggleable__label {background-color: #d4ebff;}#sk-container-id-3 div.sk-label input.sk-toggleable__control:checked~label.sk-toggleable__label {background-color: #d4ebff;}#sk-container-id-3 input.sk-hidden--visually {border: 0;clip: rect(1px 1px 1px 1px);clip: rect(1px, 1px, 1px, 1px);height: 1px;margin: -1px;overflow: hidden;padding: 0;position: absolute;width: 1px;}#sk-container-id-3 div.sk-estimator {font-family: monospace;background-color: #f0f8ff;border: 1px dotted black;border-radius: 0.25em;box-sizing: border-box;margin-bottom: 0.5em;}#sk-container-id-3 div.sk-estimator:hover {background-color: #d4ebff;}#sk-container-id-3 div.sk-parallel-item::after {content: \"\";width: 100%;border-bottom: 1px solid gray;flex-grow: 1;}#sk-container-id-3 div.sk-label:hover label.sk-toggleable__label {background-color: #d4ebff;}#sk-container-id-3 div.sk-serial::before {content: \"\";position: absolute;border-left: 1px solid gray;box-sizing: border-box;top: 0;bottom: 0;left: 50%;z-index: 0;}#sk-container-id-3 div.sk-serial {display: flex;flex-direction: column;align-items: center;background-color: white;padding-right: 0.2em;padding-left: 0.2em;position: relative;}#sk-container-id-3 div.sk-item {position: relative;z-index: 1;}#sk-container-id-3 div.sk-parallel {display: flex;align-items: stretch;justify-content: center;background-color: white;position: relative;}#sk-container-id-3 div.sk-item::before, #sk-container-id-3 div.sk-parallel-item::before {content: \"\";position: absolute;border-left: 1px solid gray;box-sizing: border-box;top: 0;bottom: 0;left: 50%;z-index: -1;}#sk-container-id-3 div.sk-parallel-item {display: flex;flex-direction: column;z-index: 1;position: relative;background-color: white;}#sk-container-id-3 div.sk-parallel-item:first-child::after {align-self: flex-end;width: 50%;}#sk-container-id-3 div.sk-parallel-item:last-child::after {align-self: flex-start;width: 50%;}#sk-container-id-3 div.sk-parallel-item:only-child::after {width: 0;}#sk-container-id-3 div.sk-dashed-wrapped {border: 1px dashed gray;margin: 0 0.4em 0.5em 0.4em;box-sizing: border-box;padding-bottom: 0.4em;background-color: white;}#sk-container-id-3 div.sk-label label {font-family: monospace;font-weight: bold;display: inline-block;line-height: 1.2em;}#sk-container-id-3 div.sk-label-container {text-align: center;}#sk-container-id-3 div.sk-container {/* jupyter's `normalize.less` sets `[hidden] { display: none; }` but bootstrap.min.css set `[hidden] { display: none !important; }` so we also need the `!important` here to be able to override the default hidden behavior on the sphinx rendered scikit-learn.org. See: https://github.com/scikit-learn/scikit-learn/issues/21755 */display: inline-block !important;position: relative;}#sk-container-id-3 div.sk-text-repr-fallback {display: none;}</style><div id=\"sk-container-id-3\" class=\"sk-top-container\"><div class=\"sk-text-repr-fallback\"><pre>RandomForestClassifier(random_state=0)</pre><b>In a Jupyter environment, please rerun this cell to show the HTML representation or trust the notebook. <br />On GitHub, the HTML representation is unable to render, please try loading this page with nbviewer.org.</b></div><div class=\"sk-container\" hidden><div class=\"sk-item\"><div class=\"sk-estimator sk-toggleable\"><input class=\"sk-toggleable__control sk-hidden--visually\" id=\"sk-estimator-id-3\" type=\"checkbox\" checked><label for=\"sk-estimator-id-3\" class=\"sk-toggleable__label sk-toggleable__label-arrow\">RandomForestClassifier</label><div class=\"sk-toggleable__content\"><pre>RandomForestClassifier(random_state=0)</pre></div></div></div></div></div>"
          },
          "metadata": {}
        }
      ],
      "execution_count": null
    },
    {
      "cell_type": "code",
      "source": [
        "pred_rfc = rfc.predict(XV_test)"
      ],
      "metadata": {
        "trusted": true,
        "execution": {
          "iopub.status.busy": "2025-03-08T11:42:55.520512Z",
          "iopub.execute_input": "2025-03-08T11:42:55.520851Z",
          "iopub.status.idle": "2025-03-08T11:42:56.191364Z",
          "shell.execute_reply.started": "2025-03-08T11:42:55.520810Z",
          "shell.execute_reply": "2025-03-08T11:42:56.190148Z"
        },
        "id": "mtAo-InvphbH"
      },
      "outputs": [],
      "execution_count": null
    },
    {
      "cell_type": "code",
      "source": [
        "score_rfc = rfc.score(XV_test, y_test)\n",
        "score_rfc"
      ],
      "metadata": {
        "trusted": true,
        "execution": {
          "iopub.status.busy": "2025-03-08T11:42:59.553476Z",
          "iopub.execute_input": "2025-03-08T11:42:59.553829Z",
          "iopub.status.idle": "2025-03-08T11:43:00.217759Z",
          "shell.execute_reply.started": "2025-03-08T11:42:59.553800Z",
          "shell.execute_reply": "2025-03-08T11:43:00.216570Z"
        },
        "id": "5Kp5gHdUphbH",
        "outputId": "3b0c56e2-d08b-4f9a-e3a9-92794a883fd6"
      },
      "outputs": [
        {
          "execution_count": 44,
          "output_type": "execute_result",
          "data": {
            "text/plain": "0.8116812227074236"
          },
          "metadata": {}
        }
      ],
      "execution_count": null
    },
    {
      "cell_type": "code",
      "source": [
        "print(classification_report(y_test, pred_rfc))"
      ],
      "metadata": {
        "trusted": true,
        "execution": {
          "iopub.status.busy": "2025-03-08T11:43:08.057642Z",
          "iopub.execute_input": "2025-03-08T11:43:08.057993Z",
          "iopub.status.idle": "2025-03-08T11:43:08.217589Z",
          "shell.execute_reply.started": "2025-03-08T11:43:08.057964Z",
          "shell.execute_reply": "2025-03-08T11:43:08.216461Z"
        },
        "id": "6_z_H5rCphbH",
        "outputId": "219c75fd-7b43-4226-b0ae-6e732e420a23"
      },
      "outputs": [
        {
          "name": "stdout",
          "text": "              precision    recall  f1-score   support\n\n    negative       0.78      0.75      0.77      1572\n     neutral       0.77      0.90      0.83      2236\n    positive       0.92      0.75      0.83      1688\n\n    accuracy                           0.81      5496\n   macro avg       0.83      0.80      0.81      5496\nweighted avg       0.82      0.81      0.81      5496\n\n",
          "output_type": "stream"
        }
      ],
      "execution_count": null
    },
    {
      "cell_type": "code",
      "source": [
        "ConfusionMatrixDisplay.from_predictions(y_test, pred_rfc);"
      ],
      "metadata": {
        "trusted": true,
        "execution": {
          "iopub.status.busy": "2025-03-08T11:43:28.484421Z",
          "iopub.execute_input": "2025-03-08T11:43:28.484773Z",
          "iopub.status.idle": "2025-03-08T11:43:28.811567Z",
          "shell.execute_reply.started": "2025-03-08T11:43:28.484745Z",
          "shell.execute_reply": "2025-03-08T11:43:28.810329Z"
        },
        "id": "5CtxBjuLphbH",
        "outputId": "c6522ac7-136d-4d2d-a8e9-624a9f3138aa"
      },
      "outputs": [
        {
          "output_type": "display_data",
          "data": {
            "text/plain": "<Figure size 640x480 with 2 Axes>",
            "image/png": "[encoded data removed]"
          },
          "metadata": {}
        }
      ],
      "execution_count": null
    },
    {
      "cell_type": "markdown",
      "source": [
        "**Results of Predictive Models**"
      ],
      "metadata": {
        "id": "Epk_OJzxphbH"
      }
    },
    {
      "cell_type": "code",
      "source": [
        "print(f'Baseline model:{score_baseline} \\nLogistic regression {score_lr}\\nDecision Tree Classification {score_dt}\\nRandim Forest Classifier {score_rfc}')\n"
      ],
      "metadata": {
        "trusted": true,
        "execution": {
          "iopub.status.busy": "2025-03-08T11:43:59.053531Z",
          "iopub.execute_input": "2025-03-08T11:43:59.053893Z",
          "iopub.status.idle": "2025-03-08T11:43:59.059907Z",
          "shell.execute_reply.started": "2025-03-08T11:43:59.053866Z",
          "shell.execute_reply": "2025-03-08T11:43:59.058670Z"
        },
        "id": "whk23hp8phbH",
        "outputId": "4ee93c78-bf67-444c-b5cc-a7f4189afbea"
      },
      "outputs": [
        {
          "name": "stdout",
          "text": "Baseline model:0.40454876273653567 \nLogistic regression 0.8286026200873362\nDecision Tree Classification 0.7556404657933042\nRandim Forest Classifier 0.8116812227074236\n",
          "output_type": "stream"
        }
      ],
      "execution_count": null
    },
    {
      "cell_type": "markdown",
      "source": [
        "Functions were defined to predict the sentiment of a text using a machine learning model. The output_label() function translates numerical sentiment labels into readable text labels, while manual_testing() utilizes a trained model to predict the sentiment of a given text and prints the result using output_label()."
      ],
      "metadata": {
        "id": "lFEXv24mphbH"
      }
    },
    {
      "cell_type": "code",
      "source": [
        "def output_lable(n):\n",
        "    if n == 0:\n",
        "        return \"The Text Sentement is Negative\"\n",
        "    elif n == 1:\n",
        "        return \"The Text Sentement is Neutral\"\n",
        "    elif n == 2:\n",
        "        return \"The Text Sentement is Positive\"\n",
        "\n",
        "def manual_testing(news):\n",
        "    testing_news = {\"text\":[news]}\n",
        "    new_def_test = pd.DataFrame(testing_news)\n",
        "    new_def_test[\"text\"] = new_def_test[\"text\"].apply(wp)\n",
        "    new_x_test = new_def_test[\"text\"]\n",
        "    new_xv_test = vectorization.transform(new_x_test)\n",
        "    pred_lr = lr.predict(new_xv_test)\n",
        "    pred_dt = dt.predict(new_xv_test)\n",
        "    pred_rfc = rfc.predict(new_xv_test)\n",
        "\n",
        "    return print((output_lable(pred_lr[1])))"
      ],
      "metadata": {
        "trusted": true,
        "execution": {
          "iopub.status.busy": "2025-03-08T11:46:08.539504Z",
          "iopub.execute_input": "2025-03-08T11:46:08.539868Z",
          "iopub.status.idle": "2025-03-08T11:46:08.546572Z",
          "shell.execute_reply.started": "2025-03-08T11:46:08.539837Z",
          "shell.execute_reply": "2025-03-08T11:46:08.545001Z"
        },
        "id": "aPDn_UxXphbH"
      },
      "outputs": [],
      "execution_count": null
    },
    {
      "cell_type": "markdown",
      "source": [
        "A function, manual_testing, is being defined to convert input text to uppercase, create a DataFrame with a single column named \"text\" containing the processed text, vectorize the text using a predefined vectorization technique, and return the vectorized representation of the text.\n",
        "\n",
        "\n",
        "\n",
        "\n",
        "\n",
        "\n",
        "\n"
      ],
      "metadata": {
        "id": "XQNo4201phbH"
      }
    },
    {
      "cell_type": "code",
      "source": [
        "def wp(text):\n",
        "    return text.upper()\n",
        "def manual_testing(news):\n",
        "    testing_news = {\"text\": [news]}\n",
        "    new_def_test = pd.DataFrame(testing_news)\n",
        "    new_def_test[\"text\"] = new_def_test[\"text\"].apply(wp)\n",
        "    new_x_test = new_def_test[\"text\"]\n",
        "    new_xv_test = vectorization.transform(new_x_test)\n",
        "    return new_xv_test\n",
        "text = \"I am Sad\"\n",
        "manual_testing(text)"
      ],
      "metadata": {
        "trusted": true,
        "execution": {
          "iopub.status.busy": "2025-03-08T11:46:04.125478Z",
          "iopub.execute_input": "2025-03-08T11:46:04.125837Z",
          "iopub.status.idle": "2025-03-08T11:46:04.137301Z",
          "shell.execute_reply.started": "2025-03-08T11:46:04.125809Z",
          "shell.execute_reply": "2025-03-08T11:46:04.136342Z"
        },
        "id": "WCQaRP8IphbH",
        "outputId": "31bde944-9d8f-4ad6-ba04-ed126b29f962"
      },
      "outputs": [
        {
          "execution_count": 49,
          "output_type": "execute_result",
          "data": {
            "text/plain": "<1x15389 sparse matrix of type '<class 'numpy.float64'>'\n\twith 2 stored elements in Compressed Sparse Row format>"
          },
          "metadata": {}
        }
      ],
      "execution_count": null
    },
    {
      "cell_type": "markdown",
      "source": [
        "**Conclusion**"
      ],
      "metadata": {
        "id": "RWsXQ3O1phbH"
      }
    },
    {
      "cell_type": "markdown",
      "source": [
        "Several preprocessing steps were applied to the dataset as part of sentiment analysis using NLP. Following preprocessing, the dataset was trained and evaluated using different machine learning models. The accuracy scores for each model were as follows:\n",
        "\n",
        "Logistic Regression: 82.86%\n",
        "Decision Tree Classification: 76.07%\n",
        "Random Forest Classifier: 81.17%\n",
        "These accuracy scores reflect the performance of each model in predicting sentiment based on the processed text. Among the models assessed, Logistic Regression achieved the highest accuracy, followed by the Random Forest Classifier, while the Decision Tree Classification had the lowest performance."
      ],
      "metadata": {
        "id": "yxRh_JQophbH"
      }
    }
  ]
}